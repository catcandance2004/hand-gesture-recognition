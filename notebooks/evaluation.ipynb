{
 "cells": [
  {
   "cell_type": "code",
   "execution_count": null,
   "id": "4b1bc1af",
   "metadata": {},
   "outputs": [],
   "source": [
    "# Import các thư viện cần thiết\n",
    "import pandas as pd\n",
    "import numpy as np\n",
    "from sklearn.metrics import classification_report, confusion_matrix\n",
    "import matplotlib.pyplot as plt\n",
    "import seaborn as sns\n",
    "import tensorflow as tf\n",
    "\n",
    "# Đặt đường dẫn\n",
    "LANDMARKS_TEST_PATH = 'data/processed_data/landmarks_test.csv'\n",
    "MODEL_PATH = 'data/models/fnn_model.h5'\n",
    "CLASSES = [chr(i) for i in range(ord('A'), ord('Z')+1)]\n",
    "\n",
    "# Tải dữ liệu kiểm tra\n",
    "df_test = pd.read_csv(LANDMARKS_TEST_PATH, header=None)\n",
    "y_test = df_test.iloc[:, 0].values  # Nhãn\n",
    "X_test = df_test.iloc[:, 1:].values  # Landmarks\n",
    "\n",
    "# Mã hóa nhãn\n",
    "from sklearn.preprocessing import LabelEncoder\n",
    "le = LabelEncoder()\n",
    "le.fit(CLASSES)\n",
    "y_test = le.transform(y_test)\n",
    "\n",
    "# Tải mô hình đã huấn luyện\n",
    "model = tf.keras.models.load_model(MODEL_PATH)\n",
    "\n",
    "# Dự đoán\n",
    "y_pred = model.predict(X_test)\n",
    "y_pred_classes = np.argmax(y_pred, axis=1)\n",
    "\n",
    "# In báo cáo phân loại\n",
    "print(classification_report(y_test, y_pred_classes, target_names=CLASSES))\n",
    "\n",
    "# Vẽ ma trận nhầm lẫn\n",
    "cm = confusion_matrix(y_test, y_pred_classes)\n",
    "plt.figure(figsize=(12,10))\n",
    "sns.heatmap(cm, annot=True, fmt='d', xticklabels=CLASSES, yticklabels=CLASSES)\n",
    "plt.xlabel('Dự đoán')\n",
    "plt.ylabel('Thực tế')\n",
    "plt.title('Ma trận nhầm lẫn')\n",
    "plt.show()"
   ]
  }
 ],
 "metadata": {
  "language_info": {
   "name": "python"
  }
 },
 "nbformat": 4,
 "nbformat_minor": 5
}
